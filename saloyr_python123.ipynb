{
  "nbformat": 4,
  "nbformat_minor": 0,
  "metadata": {
    "colab": {
      "provenance": [],
      "authorship_tag": "ABX9TyN1ArvkavOAwp8e3ViGqiTz",
      "include_colab_link": true
    },
    "kernelspec": {
      "name": "python3",
      "display_name": "Python 3"
    },
    "language_info": {
      "name": "python"
    }
  },
  "cells": [
    {
      "cell_type": "markdown",
      "metadata": {
        "id": "view-in-github",
        "colab_type": "text"
      },
      "source": [
        "<a href=\"https://colab.research.google.com/github/BiduytMondal/hello.py/blob/main/saloyr_python123.ipynb\" target=\"_parent\"><img src=\"https://colab.research.google.com/assets/colab-badge.svg\" alt=\"Open In Colab\"/></a>"
      ]
    },
    {
      "cell_type": "code",
      "execution_count": 1,
      "metadata": {
        "colab": {
          "base_uri": "https://localhost:8080/"
        },
        "id": "yJ_ScR2JQ4Me",
        "outputId": "4bb718ef-abc1-46b5-fb61-669f72541261"
      },
      "outputs": [
        {
          "output_type": "stream",
          "name": "stdout",
          "text": [
            "['a', 'c']\n"
          ]
        }
      ],
      "source": [
        "#Deleting elements\n",
        "t = ['a','b','c']\n",
        "x=[t.pop(1)]\n",
        "print(t)"
      ]
    },
    {
      "cell_type": "code",
      "source": [
        "from statistics import median\n",
        "\n",
        "import numpy as np\n",
        "a=[1,2,3]\n",
        "b=[4,5,6]\n",
        "sum = a+b\n",
        "\n",
        "print(f\"concatinate:{sum}\")#SUMATION IS CONCATINATE\n",
        "A = np.array([3,4,5,5,7])\n",
        "B = np.array([3,4,5,6,7])\n",
        "print(f\"summation the array:{A+B}\")\n",
        "c = [[1,2],[3,4],[5,6]]\n",
        "print(c)\n",
        "print(np.zeros((4,4 )))\n",
        "d = np.linspace(1,10,2)\n",
        "print(d)\n",
        "f = np.array([1,2,3,4,5,6,7,8,9])\n",
        "g=f.reshape(3,3)\n",
        "print(f\"slice{f[2:6]}\")\n",
        "h=np.array([[1,2],[3,4],[5,6]])\n",
        "i=np.array([[3,4],[5,6],[1,2]])\n",
        "print(h[2,1])\n",
        "print(h[:2,1])\n",
        "print(f\"serial print{h[1:2, : ]}\")\n",
        "print(h +5)\n",
        "print(h[h>3])\n",
        "print(f\"vartical line:{np.vstack(i+h)}\")\n",
        "print(np.hstack(i+h))\n",
        "print(np.split(f,3))\n",
        "print(np.sum(h,axis=1))\n",
        "k=np.array([1,2,3,4,5,6])\n",
        "print(np.sum(k))\n",
        "print(np.mean(k))\n",
        "print(np.std(k))\n",
        "print(np.var(k))\n",
        "print(np.median(k))\n",
        "print(np.random.rand(1,4))\n",
        "print(\"identity matix :\",np.eye(5))\n",
        "print(np.split(k,2))\n",
        "print(np.sum(h,axis=1))\n",
        "print(np.cumsum(k))\n",
        "print(np.random.randint(1,50,(4,5)))\n",
        "print(np.transpose(h))\n"
      ],
      "metadata": {
        "colab": {
          "base_uri": "https://localhost:8080/"
        },
        "id": "o1S_o2JORJ4s",
        "outputId": "6c376b2a-d70a-4575-f1e1-dc9e8051737a"
      },
      "execution_count": 2,
      "outputs": [
        {
          "output_type": "stream",
          "name": "stdout",
          "text": [
            "concatinate:[1, 2, 3, 4, 5, 6]\n",
            "summation the array:[ 6  8 10 11 14]\n",
            "[[1, 2], [3, 4], [5, 6]]\n",
            "[[0. 0. 0. 0.]\n",
            " [0. 0. 0. 0.]\n",
            " [0. 0. 0. 0.]\n",
            " [0. 0. 0. 0.]]\n",
            "[ 1. 10.]\n",
            "slice[3 4 5 6]\n",
            "6\n",
            "[2 4]\n",
            "serial print[[3 4]]\n",
            "[[ 6  7]\n",
            " [ 8  9]\n",
            " [10 11]]\n",
            "[4 5 6]\n",
            "vartical line:[[ 4  6]\n",
            " [ 8 10]\n",
            " [ 6  8]]\n",
            "[ 4  6  8 10  6  8]\n",
            "[array([1, 2, 3]), array([4, 5, 6]), array([7, 8, 9])]\n",
            "[ 3  7 11]\n",
            "21\n",
            "3.5\n",
            "1.707825127659933\n",
            "2.9166666666666665\n",
            "3.5\n",
            "[[0.12807332 0.29317588 0.81529055 0.79299024]]\n",
            "identity matix : [[1. 0. 0. 0. 0.]\n",
            " [0. 1. 0. 0. 0.]\n",
            " [0. 0. 1. 0. 0.]\n",
            " [0. 0. 0. 1. 0.]\n",
            " [0. 0. 0. 0. 1.]]\n",
            "[array([1, 2, 3]), array([4, 5, 6])]\n",
            "[ 3  7 11]\n",
            "[ 1  3  6 10 15 21]\n",
            "[[24 45 34  9  2]\n",
            " [10 15  6 21 33]\n",
            " [33  1  1 42 48]\n",
            " [43 11 30 12 27]]\n",
            "[[1 3 5]\n",
            " [2 4 6]]\n"
          ]
        }
      ]
    },
    {
      "cell_type": "code",
      "source": [
        "import pandas as pd\n",
        "\n",
        "data = {'Name': ['Alice', 'Bob', 'Charlie'],\n",
        "        'Age': [25, 30, 35],\n",
        "        'City': ['New York', 'London', 'Paris']}\n",
        "df = pd.DataFrame(data)\n",
        "\n",
        "# Select the 'Name' column\n",
        "print(df['Name'])\n",
        "\n",
        "# Select 'Name' and 'Age' columns\n",
        "print(df[['Name', 'Age']])\n",
        "#select 'name' and 'city' columns\n",
        "print(df[['Name','City']])"
      ],
      "metadata": {
        "colab": {
          "base_uri": "https://localhost:8080/"
        },
        "id": "b_AyZukYSJ08",
        "outputId": "77062c90-e842-4d66-94c4-63210b1c4fa8"
      },
      "execution_count": 3,
      "outputs": [
        {
          "output_type": "stream",
          "name": "stdout",
          "text": [
            "0      Alice\n",
            "1        Bob\n",
            "2    Charlie\n",
            "Name: Name, dtype: object\n",
            "      Name  Age\n",
            "0    Alice   25\n",
            "1      Bob   30\n",
            "2  Charlie   35\n",
            "      Name      City\n",
            "0    Alice  New York\n",
            "1      Bob    London\n",
            "2  Charlie     Paris\n"
          ]
        }
      ]
    }
  ]
}